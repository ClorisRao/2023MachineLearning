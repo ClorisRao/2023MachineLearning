{
 "cells": [
  {
   "cell_type": "markdown",
   "id": "2cd199f1efc7f10d",
   "metadata": {
    "collapsed": false
   },
   "source": [
    "<h>\n",
    "\n",
    "We can change $y_i=k$ to $y_i=(0,\\cdots,1,\\cdots,0)^T$, a K length vector with $k^{th}$ element = 1, others = 0\n",
    "\n",
    "Then we can convert log-likelihood function to $\\ln L(W)=\\sum_{i=1}^{n} \\ln \\frac{exp(y_i^TW^Tx_i)}{exp(W^Tx_i)^TI}=\\sum_{i=1}^{n} y_i^TW^Tx_i - \\ln exp(W^Tx_i)^TI$, I is a K-length vector with all elements equal to 1.\n",
    "\n",
    "The first derivative of $-\\ln L(W)$ is $\\nabla -\\ln l(W)=-\\sum_{i=1}^{n} x_iy_i^T+\\frac{x_iexp(W^Tx_i)^T}{exp(W^Tx_i)^TI}=-X^TY + X^T\\frac{exp(XW)}{sum(exp(XW))} \\text{ (sum up elements in the same row)}$\n",
    "\n",
    "<h>"
   ]
  },
  {
   "cell_type": "markdown",
   "source": [
    "<h>\n",
    "\n",
    "We can also express $-\\ln l(W)$ in a vector mode. $-\\ln l(W)=-np.sum(\\ln(np.dot(softmax(XW,axis=1),Y))$\n",
    "<h>\n"
   ],
   "metadata": {
    "collapsed": false
   },
   "id": "46d6550b972f0214"
  },
  {
   "cell_type": "code",
   "execution_count": null,
   "outputs": [],
   "source": [],
   "metadata": {
    "collapsed": false
   },
   "id": "144c8c5dd57ccd9e"
  }
 ],
 "metadata": {
  "kernelspec": {
   "display_name": "Python 3 (ipykernel)",
   "language": "python",
   "name": "python3"
  },
  "language_info": {
   "codemirror_mode": {
    "name": "ipython",
    "version": 3
   },
   "file_extension": ".py",
   "mimetype": "text/x-python",
   "name": "python",
   "nbconvert_exporter": "python",
   "pygments_lexer": "ipython3",
   "version": "3.9.13"
  }
 },
 "nbformat": 4,
 "nbformat_minor": 5
}
